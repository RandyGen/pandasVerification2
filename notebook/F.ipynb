{
 "cells": [
  {
   "cell_type": "code",
   "execution_count": 1,
   "id": "hindu-opening",
   "metadata": {},
   "outputs": [],
   "source": [
    "from statistics import mean, median,variance,stdev"
   ]
  },
  {
   "cell_type": "code",
   "execution_count": 5,
   "id": "stuck-motel",
   "metadata": {},
   "outputs": [],
   "source": [
    "allmean = 0.07365  # allmean\n",
    "allvar = 0.00992922\n",
    "length = 30000\n",
    "m1 = 0.21605\n",
    "m2 = 0.00314\n",
    "m3 = 0.0035\n",
    "var1 = 0.00300021\n",
    "var2 = 0.00021651\n",
    "var3 = 0.00023869"
   ]
  },
  {
   "cell_type": "code",
   "execution_count": 3,
   "id": "employed-bulgaria",
   "metadata": {},
   "outputs": [
    {
     "data": {
      "text/plain": [
       "297.8766"
      ]
     },
     "execution_count": 3,
     "metadata": {},
     "output_type": "execute_result"
    }
   ],
   "source": [
    "allvar * length  # all sum of squares"
   ]
  },
  {
   "cell_type": "code",
   "execution_count": 8,
   "id": "twelve-planner",
   "metadata": {},
   "outputs": [
    {
     "data": {
      "text/plain": [
       "34.554100000000005"
      ]
     },
     "execution_count": 8,
     "metadata": {},
     "output_type": "execute_result"
    }
   ],
   "source": [
    "(var1 + var2 + var3) * 10000  # 群内の平方和"
   ]
  },
  {
   "cell_type": "code",
   "execution_count": 9,
   "id": "crude-melbourne",
   "metadata": {},
   "outputs": [
    {
     "data": {
      "text/plain": [
       "0.001151918525185852"
      ]
     },
     "execution_count": 9,
     "metadata": {},
     "output_type": "execute_result"
    }
   ],
   "source": [
    "(var1 + var2 + var3) * 10000 / (30000 - 3)  # 群内の平均平方"
   ]
  },
  {
   "cell_type": "code",
   "execution_count": 12,
   "id": "sapphire-auckland",
   "metadata": {},
   "outputs": [
    {
     "data": {
      "text/plain": [
       "301.70442599999996"
      ]
     },
     "execution_count": 12,
     "metadata": {},
     "output_type": "execute_result"
    }
   ],
   "source": [
    "(((m1-allmean)**2)*10000) + (((m2-allmean)**2)*10000) + (((m3-allmean)**2)*10000)  # 群間の平方和"
   ]
  },
  {
   "cell_type": "code",
   "execution_count": 11,
   "id": "becoming-exhaust",
   "metadata": {},
   "outputs": [
    {
     "data": {
      "text/plain": [
       "150.85221299999998"
      ]
     },
     "execution_count": 11,
     "metadata": {},
     "output_type": "execute_result"
    }
   ],
   "source": [
    "(((m1-allmean)**2*10000) + ((m2-allmean)**2*10000) + ((m3-allmean)**2*10000)) / 2  # 群間の平均平方"
   ]
  },
  {
   "cell_type": "code",
   "execution_count": 13,
   "id": "neutral-clark",
   "metadata": {},
   "outputs": [
    {
     "data": {
      "text/plain": [
       "130957.36347816898"
      ]
     },
     "execution_count": 13,
     "metadata": {},
     "output_type": "execute_result"
    }
   ],
   "source": [
    "((((m1-allmean)**2*10000) + ((m2-allmean)**2*10000) + ((m3-allmean)**2*10000)) / 2) / ((var1 + var2 + var3) * 10000 / (30000 - 3))  # F"
   ]
  },
  {
   "cell_type": "code",
   "execution_count": 50,
   "id": "digital-quick",
   "metadata": {},
   "outputs": [],
   "source": [
    "l = [\n",
    "    4.5,3.9,4.4,4.7,4.1,4.1,4.0,4.3,4.8,4.6,\n",
    "    0.7,0.7,0.8,1.1,0.9,0.9,0.8,1.1,1.0,0.6,\n",
    "    0.7,1.1,1.0,1.1,0.9,0.6,0.6,1.0,1.2,1.2\n",
    "]"
   ]
  },
  {
   "cell_type": "code",
   "execution_count": 62,
   "id": "green-large",
   "metadata": {},
   "outputs": [],
   "source": [
    "l1 = [\n",
    "    4.5,3.9,4.4,4.7,4.1,4.1,4.0,4.3,4.8,4.6,\n",
    "]"
   ]
  },
  {
   "cell_type": "code",
   "execution_count": 51,
   "id": "delayed-auction",
   "metadata": {},
   "outputs": [
    {
     "data": {
      "text/plain": [
       "30"
      ]
     },
     "execution_count": 51,
     "metadata": {},
     "output_type": "execute_result"
    }
   ],
   "source": [
    "len(l)"
   ]
  },
  {
   "cell_type": "code",
   "execution_count": 52,
   "id": "surrounded-scheduling",
   "metadata": {},
   "outputs": [
    {
     "data": {
      "text/plain": [
       "2.046666666666667"
      ]
     },
     "execution_count": 52,
     "metadata": {},
     "output_type": "execute_result"
    }
   ],
   "source": [
    "mean(l)  # 全体平均"
   ]
  },
  {
   "cell_type": "code",
   "execution_count": 53,
   "id": "logical-column",
   "metadata": {},
   "outputs": [
    {
     "data": {
      "text/plain": [
       "1.1"
      ]
     },
     "execution_count": 53,
     "metadata": {},
     "output_type": "execute_result"
    }
   ],
   "source": [
    "median(l)"
   ]
  },
  {
   "cell_type": "code",
   "execution_count": 54,
   "id": "falling-consumption",
   "metadata": {},
   "outputs": [
    {
     "data": {
      "text/plain": [
       "2.7770574712643676"
      ]
     },
     "execution_count": 54,
     "metadata": {},
     "output_type": "execute_result"
    }
   ],
   "source": [
    "variance(l)"
   ]
  },
  {
   "cell_type": "code",
   "execution_count": 55,
   "id": "desperate-bench",
   "metadata": {},
   "outputs": [
    {
     "data": {
      "text/plain": [
       "1.6664505607021072"
      ]
     },
     "execution_count": 55,
     "metadata": {},
     "output_type": "execute_result"
    }
   ],
   "source": [
    "stdev(l)"
   ]
  },
  {
   "cell_type": "code",
   "execution_count": 56,
   "id": "athletic-google",
   "metadata": {},
   "outputs": [
    {
     "data": {
      "text/plain": [
       "83.31172413793102"
      ]
     },
     "execution_count": 56,
     "metadata": {},
     "output_type": "execute_result"
    }
   ],
   "source": [
    "variance(l)*len(l)  # 全体の平方和"
   ]
  },
  {
   "cell_type": "code",
   "execution_count": 57,
   "id": "selected-bulgarian",
   "metadata": {},
   "outputs": [
    {
     "data": {
      "text/plain": [
       "52.59377777777776"
      ]
     },
     "execution_count": 57,
     "metadata": {},
     "output_type": "execute_result"
    }
   ],
   "source": [
    "(4.34-mean(l))**2*10"
   ]
  },
  {
   "cell_type": "code",
   "execution_count": 58,
   "id": "continent-breed",
   "metadata": {},
   "outputs": [
    {
     "data": {
      "text/plain": [
       "14.081777777777784"
      ]
     },
     "execution_count": 58,
     "metadata": {},
     "output_type": "execute_result"
    }
   ],
   "source": [
    "(0.86-mean(l))**2*10"
   ]
  },
  {
   "cell_type": "code",
   "execution_count": 59,
   "id": "boring-duplicate",
   "metadata": {
    "tags": []
   },
   "outputs": [
    {
     "data": {
      "text/plain": [
       "12.247111111111117"
      ]
     },
     "execution_count": 59,
     "metadata": {},
     "output_type": "execute_result"
    }
   ],
   "source": [
    "(0.94-mean(l))**2*10"
   ]
  },
  {
   "cell_type": "code",
   "execution_count": 66,
   "id": "lovely-measurement",
   "metadata": {},
   "outputs": [
    {
     "data": {
      "text/plain": [
       "78.92266666666666"
      ]
     },
     "execution_count": 66,
     "metadata": {},
     "output_type": "execute_result"
    }
   ],
   "source": [
    "((4.34-mean(l))**2*10) + ((0.86-mean(l))**2*10) + ((0.94-mean(l))**2*10)  # 群間の平方和"
   ]
  },
  {
   "cell_type": "code",
   "execution_count": 68,
   "id": "single-triple",
   "metadata": {},
   "outputs": [
    {
     "data": {
      "text/plain": [
       "39.46133333333333"
      ]
     },
     "execution_count": 68,
     "metadata": {},
     "output_type": "execute_result"
    }
   ],
   "source": [
    "(((4.34-mean(l))**2*10) + ((0.86-mean(l))**2*10) + ((0.94-mean(l))**2*10)) / 2  # 群間の平均平方"
   ]
  },
  {
   "cell_type": "code",
   "execution_count": 69,
   "id": "cardiovascular-romantic",
   "metadata": {},
   "outputs": [
    {
     "data": {
      "text/plain": [
       "0.06633703703703703"
      ]
     },
     "execution_count": 69,
     "metadata": {},
     "output_type": "execute_result"
    }
   ],
   "source": [
    "1.7911 / 27  # 郡内の平均平方"
   ]
  },
  {
   "cell_type": "code",
   "execution_count": 70,
   "id": "worth-garlic",
   "metadata": {},
   "outputs": [
    {
     "data": {
      "text/plain": [
       "594.8612584445314"
      ]
     },
     "execution_count": 70,
     "metadata": {},
     "output_type": "execute_result"
    }
   ],
   "source": [
    "((((4.34-mean(l))**2*10) + ((0.86-mean(l))**2*10) + ((0.94-mean(l))**2*10)) / 2) / (1.7911 / 27)  # F"
   ]
  },
  {
   "cell_type": "code",
   "execution_count": null,
   "id": "intense-ethics",
   "metadata": {},
   "outputs": [],
   "source": []
  }
 ],
 "metadata": {
  "kernelspec": {
   "display_name": "Python 3",
   "language": "python",
   "name": "python3"
  },
  "language_info": {
   "codemirror_mode": {
    "name": "ipython",
    "version": 3
   },
   "file_extension": ".py",
   "mimetype": "text/x-python",
   "name": "python",
   "nbconvert_exporter": "python",
   "pygments_lexer": "ipython3",
   "version": "3.9.1"
  }
 },
 "nbformat": 4,
 "nbformat_minor": 5
}

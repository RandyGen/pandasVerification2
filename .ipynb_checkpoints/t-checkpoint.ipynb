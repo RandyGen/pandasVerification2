{
 "cells": [
  {
   "cell_type": "code",
   "execution_count": 1,
   "id": "everyday-interstate",
   "metadata": {},
   "outputs": [],
   "source": [
    "from statistics import mean, median,variance,stdev"
   ]
  },
  {
   "cell_type": "code",
   "execution_count": 2,
   "id": "difficult-leone",
   "metadata": {},
   "outputs": [],
   "source": [
    "m2 = 0.00314\n",
    "m3 = 0.0035\n",
    "var1 = 0.00300021\n",
    "var2 = 0.00021651\n",
    "length = 10000"
   ]
  },
  {
   "cell_type": "code",
   "execution_count": 6,
   "id": "respiratory-phoenix",
   "metadata": {},
   "outputs": [
    {
     "data": {
      "text/plain": [
       "-0.6347082674697481"
      ]
     },
     "execution_count": 6,
     "metadata": {},
     "output_type": "execute_result"
    }
   ],
   "source": [
    "(m2-m3)/math.sqrt((var1*10000+var2*10000)/((length-1)+(length-1))*((1/length)+(1/length)))  # t"
   ]
  },
  {
   "cell_type": "code",
   "execution_count": 7,
   "id": "sought-brown",
   "metadata": {},
   "outputs": [
    {
     "data": {
      "text/plain": [
       "-0.0003600000000000001"
      ]
     },
     "execution_count": 7,
     "metadata": {},
     "output_type": "execute_result"
    }
   ],
   "source": [
    "(m2-m3)"
   ]
  },
  {
   "cell_type": "code",
   "execution_count": 8,
   "id": "fabulous-principle",
   "metadata": {},
   "outputs": [
    {
     "data": {
      "text/plain": [
       "0.0005671897128977585"
      ]
     },
     "execution_count": 8,
     "metadata": {},
     "output_type": "execute_result"
    }
   ],
   "source": [
    "math.sqrt((var1*10000+var2*10000)/((length-1)+(length-1))*((1/length)+(1/length)))"
   ]
  },
  {
   "cell_type": "code",
   "execution_count": 2,
   "id": "leading-banana",
   "metadata": {},
   "outputs": [],
   "source": [
    "l1 = [\n",
    "    0.7,0.7,0.8,1.1,0.9,0.9,0.8,1.1,1.0,0.6\n",
    "]"
   ]
  },
  {
   "cell_type": "code",
   "execution_count": 3,
   "id": "cosmetic-sussex",
   "metadata": {},
   "outputs": [],
   "source": [
    "l2 = [\n",
    "    0.7,1.1,1.0,1.1,0.9,0.6,0.6,1.0,1.2,1.2\n",
    "]"
   ]
  },
  {
   "cell_type": "code",
   "execution_count": 4,
   "id": "dried-theory",
   "metadata": {},
   "outputs": [
    {
     "data": {
      "text/plain": [
       "0.86"
      ]
     },
     "execution_count": 4,
     "metadata": {},
     "output_type": "execute_result"
    }
   ],
   "source": [
    "mean(l1)  # 平均"
   ]
  },
  {
   "cell_type": "code",
   "execution_count": 5,
   "id": "interim-richardson",
   "metadata": {},
   "outputs": [
    {
     "data": {
      "text/plain": [
       "0.94"
      ]
     },
     "execution_count": 5,
     "metadata": {},
     "output_type": "execute_result"
    }
   ],
   "source": [
    "mean(l2)  # 平均"
   ]
  },
  {
   "cell_type": "code",
   "execution_count": 13,
   "id": "accompanied-graph",
   "metadata": {},
   "outputs": [
    {
     "data": {
      "text/plain": [
       "-0.07999999999999996"
      ]
     },
     "execution_count": 13,
     "metadata": {},
     "output_type": "execute_result"
    }
   ],
   "source": [
    "mean(l1)-mean(l2)"
   ]
  },
  {
   "cell_type": "code",
   "execution_count": 6,
   "id": "small-challenge",
   "metadata": {},
   "outputs": [
    {
     "data": {
      "text/plain": [
       "0.029333333333333347"
      ]
     },
     "execution_count": 6,
     "metadata": {},
     "output_type": "execute_result"
    }
   ],
   "source": [
    "variance(l1)  # 分散"
   ]
  },
  {
   "cell_type": "code",
   "execution_count": 7,
   "id": "laughing-program",
   "metadata": {},
   "outputs": [
    {
     "data": {
      "text/plain": [
       "0.053777777777777785"
      ]
     },
     "execution_count": 7,
     "metadata": {},
     "output_type": "execute_result"
    }
   ],
   "source": [
    "variance(l2)  # 分散"
   ]
  },
  {
   "cell_type": "code",
   "execution_count": 8,
   "id": "employed-concord",
   "metadata": {},
   "outputs": [
    {
     "data": {
      "text/plain": [
       "0.046172839506172854"
      ]
     },
     "execution_count": 8,
     "metadata": {},
     "output_type": "execute_result"
    }
   ],
   "source": [
    "(variance(l1)*10+variance(l2)*10)/((10-1)+(10-1))  # 推定母分散 自由度１８"
   ]
  },
  {
   "cell_type": "code",
   "execution_count": 3,
   "id": "wrong-trash",
   "metadata": {},
   "outputs": [],
   "source": [
    "import math"
   ]
  },
  {
   "cell_type": "code",
   "execution_count": 11,
   "id": "roman-company",
   "metadata": {},
   "outputs": [
    {
     "data": {
      "text/plain": [
       "0.09609665915750959"
      ]
     },
     "execution_count": 11,
     "metadata": {},
     "output_type": "execute_result"
    }
   ],
   "source": [
    "math.sqrt((variance(l1)*10+variance(l2)*10)/((10-1)+(10-1))*((1/10)+(1/10)))"
   ]
  },
  {
   "cell_type": "code",
   "execution_count": 12,
   "id": "tender-designer",
   "metadata": {},
   "outputs": [
    {
     "data": {
      "text/plain": [
       "-0.8324951221131839"
      ]
     },
     "execution_count": 12,
     "metadata": {},
     "output_type": "execute_result"
    }
   ],
   "source": [
    "(mean(l1)-mean(l2))/math.sqrt((variance(l1)*10+variance(l2)*10)/((10-1)+(10-1))*((1/10)+(1/10)))  # t"
   ]
  },
  {
   "cell_type": "code",
   "execution_count": null,
   "id": "verified-synthesis",
   "metadata": {},
   "outputs": [],
   "source": []
  }
 ],
 "metadata": {
  "kernelspec": {
   "display_name": "Python 3",
   "language": "python",
   "name": "python3"
  },
  "language_info": {
   "codemirror_mode": {
    "name": "ipython",
    "version": 3
   },
   "file_extension": ".py",
   "mimetype": "text/x-python",
   "name": "python",
   "nbconvert_exporter": "python",
   "pygments_lexer": "ipython3",
   "version": "3.9.1"
  }
 },
 "nbformat": 4,
 "nbformat_minor": 5
}
